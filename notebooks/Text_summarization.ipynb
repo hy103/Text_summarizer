{
 "cells": [
  {
   "cell_type": "code",
   "execution_count": 54,
   "id": "f88a884a-fe87-4676-9979-c8abe3161adc",
   "metadata": {},
   "outputs": [
    {
     "name": "stderr",
     "output_type": "stream",
     "text": [
      "[nltk_data] Downloading package stopwords to\n",
      "[nltk_data]     /home/hyarrava/nltk_data...\n",
      "[nltk_data]   Package stopwords is already up-to-date!\n"
     ]
    },
    {
     "data": {
      "text/plain": [
       "True"
      ]
     },
     "execution_count": 54,
     "metadata": {},
     "output_type": "execute_result"
    }
   ],
   "source": [
    "import pandas as pd\n",
    "import numpy as np\n",
    "import torch \n",
    "import torch.nn as nn\n",
    "from torch.optim import Adam, SGD\n",
    "\n",
    "import nltk\n",
    "from nltk.corpus import stopwords\n",
    "import string\n",
    " \n",
    "nltk.download('stopwords')"
   ]
  },
  {
   "cell_type": "code",
   "execution_count": 30,
   "id": "f76de2d6-c4ac-49f8-af65-ecf0f6b82380",
   "metadata": {},
   "outputs": [],
   "source": [
    "### Data Loading"
   ]
  },
  {
   "cell_type": "code",
   "execution_count": 2,
   "id": "b85ccc54-40c2-4122-8b8a-8eaa762fbae5",
   "metadata": {},
   "outputs": [
    {
     "data": {
      "text/html": [
       "<div>\n",
       "<style scoped>\n",
       "    .dataframe tbody tr th:only-of-type {\n",
       "        vertical-align: middle;\n",
       "    }\n",
       "\n",
       "    .dataframe tbody tr th {\n",
       "        vertical-align: top;\n",
       "    }\n",
       "\n",
       "    .dataframe thead th {\n",
       "        text-align: right;\n",
       "    }\n",
       "</style>\n",
       "<table border=\"1\" class=\"dataframe\">\n",
       "  <thead>\n",
       "    <tr style=\"text-align: right;\">\n",
       "      <th></th>\n",
       "      <th>headlines</th>\n",
       "      <th>text</th>\n",
       "    </tr>\n",
       "  </thead>\n",
       "  <tbody>\n",
       "    <tr>\n",
       "      <th>0</th>\n",
       "      <td>upGrad learner switches to career in ML &amp; Al w...</td>\n",
       "      <td>Saurav Kant, an alumnus of upGrad and IIIT-B's...</td>\n",
       "    </tr>\n",
       "    <tr>\n",
       "      <th>1</th>\n",
       "      <td>Delhi techie wins free food from Swiggy for on...</td>\n",
       "      <td>Kunal Shah's credit card bill payment platform...</td>\n",
       "    </tr>\n",
       "    <tr>\n",
       "      <th>2</th>\n",
       "      <td>New Zealand end Rohit Sharma-led India's 12-ma...</td>\n",
       "      <td>New Zealand defeated India by 8 wickets in the...</td>\n",
       "    </tr>\n",
       "    <tr>\n",
       "      <th>3</th>\n",
       "      <td>Aegon life iTerm insurance plan helps customer...</td>\n",
       "      <td>With Aegon Life iTerm Insurance plan, customer...</td>\n",
       "    </tr>\n",
       "    <tr>\n",
       "      <th>4</th>\n",
       "      <td>Have known Hirani for yrs, what if MeToo claim...</td>\n",
       "      <td>Speaking about the sexual harassment allegatio...</td>\n",
       "    </tr>\n",
       "  </tbody>\n",
       "</table>\n",
       "</div>"
      ],
      "text/plain": [
       "                                           headlines  \\\n",
       "0  upGrad learner switches to career in ML & Al w...   \n",
       "1  Delhi techie wins free food from Swiggy for on...   \n",
       "2  New Zealand end Rohit Sharma-led India's 12-ma...   \n",
       "3  Aegon life iTerm insurance plan helps customer...   \n",
       "4  Have known Hirani for yrs, what if MeToo claim...   \n",
       "\n",
       "                                                text  \n",
       "0  Saurav Kant, an alumnus of upGrad and IIIT-B's...  \n",
       "1  Kunal Shah's credit card bill payment platform...  \n",
       "2  New Zealand defeated India by 8 wickets in the...  \n",
       "3  With Aegon Life iTerm Insurance plan, customer...  \n",
       "4  Speaking about the sexual harassment allegatio...  "
      ]
     },
     "execution_count": 2,
     "metadata": {},
     "output_type": "execute_result"
    }
   ],
   "source": [
    "data = pd.read_csv(\"../data/news_summary_more.csv\")\n",
    "data.head(5)"
   ]
  },
  {
   "cell_type": "code",
   "execution_count": 3,
   "id": "41a3843c-9384-4b5f-9535-3d06f9c84f36",
   "metadata": {},
   "outputs": [
    {
     "data": {
      "text/html": [
       "<div>\n",
       "<style scoped>\n",
       "    .dataframe tbody tr th:only-of-type {\n",
       "        vertical-align: middle;\n",
       "    }\n",
       "\n",
       "    .dataframe tbody tr th {\n",
       "        vertical-align: top;\n",
       "    }\n",
       "\n",
       "    .dataframe thead th {\n",
       "        text-align: right;\n",
       "    }\n",
       "</style>\n",
       "<table border=\"1\" class=\"dataframe\">\n",
       "  <thead>\n",
       "    <tr style=\"text-align: right;\">\n",
       "      <th></th>\n",
       "      <th>headlines</th>\n",
       "      <th>text</th>\n",
       "    </tr>\n",
       "  </thead>\n",
       "  <tbody>\n",
       "    <tr>\n",
       "      <th>count</th>\n",
       "      <td>98401</td>\n",
       "      <td>98401</td>\n",
       "    </tr>\n",
       "    <tr>\n",
       "      <th>unique</th>\n",
       "      <td>98280</td>\n",
       "      <td>98360</td>\n",
       "    </tr>\n",
       "    <tr>\n",
       "      <th>top</th>\n",
       "      <td>Warne produced 'ball of century' with his 1st ...</td>\n",
       "      <td>Virender Sehwag was captaining India when he h...</td>\n",
       "    </tr>\n",
       "    <tr>\n",
       "      <th>freq</th>\n",
       "      <td>3</td>\n",
       "      <td>2</td>\n",
       "    </tr>\n",
       "  </tbody>\n",
       "</table>\n",
       "</div>"
      ],
      "text/plain": [
       "                                                headlines  \\\n",
       "count                                               98401   \n",
       "unique                                              98280   \n",
       "top     Warne produced 'ball of century' with his 1st ...   \n",
       "freq                                                    3   \n",
       "\n",
       "                                                     text  \n",
       "count                                               98401  \n",
       "unique                                              98360  \n",
       "top     Virender Sehwag was captaining India when he h...  \n",
       "freq                                                    2  "
      ]
     },
     "execution_count": 3,
     "metadata": {},
     "output_type": "execute_result"
    }
   ],
   "source": [
    "data.describe()"
   ]
  },
  {
   "cell_type": "code",
   "execution_count": 4,
   "id": "260384a0-134a-4d47-8729-714d847a0b61",
   "metadata": {},
   "outputs": [
    {
     "name": "stdout",
     "output_type": "stream",
     "text": [
      "<class 'pandas.core.frame.DataFrame'>\n",
      "RangeIndex: 98401 entries, 0 to 98400\n",
      "Data columns (total 2 columns):\n",
      " #   Column     Non-Null Count  Dtype \n",
      "---  ------     --------------  ----- \n",
      " 0   headlines  98401 non-null  object\n",
      " 1   text       98401 non-null  object\n",
      "dtypes: object(2)\n",
      "memory usage: 1.5+ MB\n"
     ]
    }
   ],
   "source": [
    "data.info()"
   ]
  },
  {
   "cell_type": "code",
   "execution_count": 7,
   "id": "06f44cd4-c210-47a1-850f-3d7ba6eb83af",
   "metadata": {},
   "outputs": [
    {
     "data": {
      "text/plain": [
       "(\"â\\x82¹95 lakh prize offered for 'radical ideas' to solve weak UK growth\",\n",
       " \"  'Loveratri' is not demeaning towards any culture: Salman\")"
      ]
     },
     "execution_count": 7,
     "metadata": {},
     "output_type": "execute_result"
    }
   ],
   "source": [
    "data[\"headlines\"].max(), data[\"headlines\"].min()"
   ]
  },
  {
   "cell_type": "code",
   "execution_count": 25,
   "id": "5a3424e9-3665-4ad7-94ba-b073f8ac3661",
   "metadata": {},
   "outputs": [
    {
     "data": {
      "text/plain": [
       "72"
      ]
     },
     "execution_count": 25,
     "metadata": {},
     "output_type": "execute_result"
    }
   ],
   "source": [
    "len(\"\"\"(\"â\\x82¹95 lakh prize offered for 'radical ideas' to solve weak UK growth\",\"\"\")"
   ]
  },
  {
   "cell_type": "code",
   "execution_count": 8,
   "id": "e0863c65-9df6-4e76-a5da-d35e758ffd33",
   "metadata": {},
   "outputs": [],
   "source": [
    "def char_count(x):\n",
    "    return len(x)"
   ]
  },
  {
   "cell_type": "code",
   "execution_count": 21,
   "id": "0ac85f83-9da0-42ff-9fdd-842049c75578",
   "metadata": {},
   "outputs": [],
   "source": [
    "data[\"headlines_char_count\"] = data[\"headlines\"].apply(lambda x: char_count(x))\n",
    "data[\"text_char_count\"] = data[\"text\"].apply(lambda x: char_count(x))"
   ]
  },
  {
   "cell_type": "code",
   "execution_count": null,
   "id": "c5b413e1-73a4-449d-915e-092b74228d82",
   "metadata": {},
   "outputs": [],
   "source": [
    "(\"â\\x82¹95 lakh prize offered for 'radical ideas' to solve weak UK growth\","
   ]
  },
  {
   "cell_type": "code",
   "execution_count": 23,
   "id": "bc28a3ec-7c66-463d-9520-3c5c150e2463",
   "metadata": {},
   "outputs": [
    {
     "data": {
      "text/plain": [
       "(79, 9, 450, 4)"
      ]
     },
     "execution_count": 23,
     "metadata": {},
     "output_type": "execute_result"
    }
   ],
   "source": [
    "data[\"headlines_char_count\"].max(), data[\"headlines_char_count\"].min(), data[\"text_char_count\"].max(), data[\"text_char_count\"].min()"
   ]
  },
  {
   "cell_type": "code",
   "execution_count": 26,
   "id": "c68b5a6f-b002-408b-be4d-01e3f50d95ce",
   "metadata": {},
   "outputs": [
    {
     "data": {
      "text/html": [
       "<div>\n",
       "<style scoped>\n",
       "    .dataframe tbody tr th:only-of-type {\n",
       "        vertical-align: middle;\n",
       "    }\n",
       "\n",
       "    .dataframe tbody tr th {\n",
       "        vertical-align: top;\n",
       "    }\n",
       "\n",
       "    .dataframe thead th {\n",
       "        text-align: right;\n",
       "    }\n",
       "</style>\n",
       "<table border=\"1\" class=\"dataframe\">\n",
       "  <thead>\n",
       "    <tr style=\"text-align: right;\">\n",
       "      <th></th>\n",
       "      <th>headlines</th>\n",
       "      <th>text</th>\n",
       "      <th>headlines_char_count</th>\n",
       "      <th>text_char_count</th>\n",
       "    </tr>\n",
       "  </thead>\n",
       "  <tbody>\n",
       "    <tr>\n",
       "      <th>52</th>\n",
       "      <td>headlines</td>\n",
       "      <td>text</td>\n",
       "      <td>9</td>\n",
       "      <td>4</td>\n",
       "    </tr>\n",
       "  </tbody>\n",
       "</table>\n",
       "</div>"
      ],
      "text/plain": [
       "    headlines  text  headlines_char_count  text_char_count\n",
       "52  headlines  text                     9                4"
      ]
     },
     "execution_count": 26,
     "metadata": {},
     "output_type": "execute_result"
    }
   ],
   "source": [
    "data[data[\"text_char_count\"]== data[\"text_char_count\"].min()]"
   ]
  },
  {
   "cell_type": "code",
   "execution_count": 29,
   "id": "25bc4b17-58ec-4282-842b-842ce0c51a77",
   "metadata": {},
   "outputs": [
    {
     "data": {
      "text/plain": [
       "(98401, 4)"
      ]
     },
     "execution_count": 29,
     "metadata": {},
     "output_type": "execute_result"
    }
   ],
   "source": [
    "data.shape"
   ]
  },
  {
   "cell_type": "code",
   "execution_count": 46,
   "id": "1fff8d0e-0c9c-4a0d-9b90-3513cf2ff87d",
   "metadata": {},
   "outputs": [
    {
     "data": {
      "text/plain": [
       "'Ousted Nissan Chairman Carlos Ghosn has said his arrest over alleged financial misconduct was led by \"plot and treason\" by the Japanese carmaker\\'s executives who opposed its deeper integration with Renault and Mitsubishi. Ghosn added he had discussed the integration plans with Nissan\\'s CEO in September, a month before his arrest. He further said he wouldn\\'t flee if granted bail.'"
      ]
     },
     "execution_count": 46,
     "metadata": {},
     "output_type": "execute_result"
    }
   ],
   "source": [
    "data[\"text\"].iloc[75]"
   ]
  },
  {
   "cell_type": "markdown",
   "id": "04475602-ed14-461e-9622-cec3196c0e59",
   "metadata": {},
   "source": [
    "### Punctuation removal, stop word removal, loweing"
   ]
  },
  {
   "cell_type": "code",
   "execution_count": 40,
   "id": "05d7112d-0833-4a41-ac42-3977786b2154",
   "metadata": {},
   "outputs": [],
   "source": [
    "stop_words = set(stopwords.words('english'))\n"
   ]
  },
  {
   "cell_type": "code",
   "execution_count": 55,
   "id": "9d76b160-e60d-4570-ac7c-87c0db1db3b8",
   "metadata": {},
   "outputs": [],
   "source": [
    "def remove_punct_stop_words(sentence):\n",
    "    translator = str.maketrans('', '', string.punctuation)\n",
    "    punct_sentence = sentence.translate(translator)\n",
    "    \n",
    "    clean_words = []\n",
    "    for word in punct_sentence.split(' '):\n",
    "        if word not in stop_words:\n",
    "            clean_words.append(word.lower())\n",
    "\n",
    "    return ' '.join([word for word in clean_words])"
   ]
  },
  {
   "cell_type": "code",
   "execution_count": 56,
   "id": "a9fb5a50-9cfe-4b0c-9f02-aee4df3939c3",
   "metadata": {},
   "outputs": [],
   "source": [
    "sample_sentence = \"\"\"'Ousted Nissan Chairman Carlos Ghosn has said his arrest over alleged financial misconduct was led by \"plot and treason\" by the Japanese carmaker\\'s executives who opposed its deeper integration with Renault and Mitsubishi. Ghosn added he had discussed the integration plans with Nissan\\'s CEO in September, a month before his arrest. He further said he wouldn\\'t flee if granted bail.'\"\"\"\n",
    "\n",
    "clean_sentence = remove_punct_stop_words(sample_sentence)"
   ]
  },
  {
   "cell_type": "code",
   "execution_count": 57,
   "id": "ad4f1cc6-fbda-4545-b2df-7f5a52c54f40",
   "metadata": {},
   "outputs": [
    {
     "data": {
      "text/plain": [
       "'ousted nissan chairman carlos ghosn said arrest alleged financial misconduct led plot treason japanese carmakers executives opposed deeper integration renault mitsubishi ghosn added discussed integration plans nissans ceo september month arrest he said wouldnt flee granted bail'"
      ]
     },
     "execution_count": 57,
     "metadata": {},
     "output_type": "execute_result"
    }
   ],
   "source": [
    "clean_sentence"
   ]
  },
  {
   "cell_type": "markdown",
   "id": "6e526480-58ee-4b91-94ec-cda2acf754a8",
   "metadata": {},
   "source": [
    "### Punctuation removal, stop word removal, loweing \n",
    "### may not be helpful in this case as they cutdown the fluency"
   ]
  },
  {
   "cell_type": "markdown",
   "id": "48690562-49fe-46ba-a556-71a35f1ef3a8",
   "metadata": {},
   "source": [
    "## We wil be movng without them\n",
    "## We will do tokenization and then Word embeddings\n"
   ]
  },
  {
   "cell_type": "code",
   "execution_count": 63,
   "id": "40010de9-723b-41e8-822f-702a54061bfd",
   "metadata": {},
   "outputs": [
    {
     "data": {
      "application/vnd.jupyter.widget-view+json": {
       "model_id": "46907b659b7d42d78ceb818c3e432e4d",
       "version_major": 2,
       "version_minor": 0
      },
      "text/plain": [
       "tokenizer_config.json:   0%|          | 0.00/300 [00:00<?, ?B/s]"
      ]
     },
     "metadata": {},
     "output_type": "display_data"
    },
    {
     "data": {
      "application/vnd.jupyter.widget-view+json": {
       "model_id": "8ea9d459e1b0431a8b0c0772d9f00338",
       "version_major": 2,
       "version_minor": 0
      },
      "text/plain": [
       "config.json:   0%|          | 0.00/1.63k [00:00<?, ?B/s]"
      ]
     },
     "metadata": {},
     "output_type": "display_data"
    },
    {
     "data": {
      "application/vnd.jupyter.widget-view+json": {
       "model_id": "d39eb425b89f4bd2b580bcebb569ad8b",
       "version_major": 2,
       "version_minor": 0
      },
      "text/plain": [
       "vocab.json:   0%|          | 0.00/798k [00:00<?, ?B/s]"
      ]
     },
     "metadata": {},
     "output_type": "display_data"
    },
    {
     "data": {
      "application/vnd.jupyter.widget-view+json": {
       "model_id": "07aae1c8d7f44aaaa0d3afda68bc05e0",
       "version_major": 2,
       "version_minor": 0
      },
      "text/plain": [
       "merges.txt:   0%|          | 0.00/456k [00:00<?, ?B/s]"
      ]
     },
     "metadata": {},
     "output_type": "display_data"
    },
    {
     "data": {
      "application/vnd.jupyter.widget-view+json": {
       "model_id": "6090e57ad6e545b9979ba0479ac1b2de",
       "version_major": 2,
       "version_minor": 0
      },
      "text/plain": [
       "tokenizer.json:   0%|          | 0.00/1.36M [00:00<?, ?B/s]"
      ]
     },
     "metadata": {},
     "output_type": "display_data"
    },
    {
     "data": {
      "application/vnd.jupyter.widget-view+json": {
       "model_id": "873ddb1be312410eb6db50164870eb96",
       "version_major": 2,
       "version_minor": 0
      },
      "text/plain": [
       "special_tokens_map.json:   0%|          | 0.00/239 [00:00<?, ?B/s]"
      ]
     },
     "metadata": {},
     "output_type": "display_data"
    },
    {
     "name": "stderr",
     "output_type": "stream",
     "text": [
      "/home/hyarrava/.local/lib/python3.11/site-packages/transformers/tokenization_utils_base.py:1617: FutureWarning: `clean_up_tokenization_spaces` was not set. It will be set to `True` by default. This behavior will be deprecated in transformers v4.45, and will be then set to `False` by default. For more details check this issue: https://github.com/huggingface/transformers/issues/31884\n",
      "  warnings.warn(\n"
     ]
    }
   ],
   "source": [
    "## Tokenization\n",
    "from transformers import AutoTokenizer, AutoModelForSeq2SeqLM\n",
    "tokenizer = AutoTokenizer.from_pretrained(\"slauw87/bart_summarisation\")"
   ]
  },
  {
   "cell_type": "markdown",
   "id": "ab67f039-cefa-4693-9ddf-0b3b3adb402a",
   "metadata": {},
   "source": [
    "## Tokenization padding usin AutoTokenizer from Hugging face transformer model"
   ]
  },
  {
   "cell_type": "code",
   "execution_count": 135,
   "id": "63292499-95ac-425c-b7a6-085c946cd091",
   "metadata": {},
   "outputs": [],
   "source": [
    "headlines = data[\"headlines\"].to_list()\n",
    "text = data[\"text\"].to_list()"
   ]
  },
  {
   "cell_type": "code",
   "execution_count": 136,
   "id": "485cfd7c-495a-4bc2-911c-4a9e985ad4cf",
   "metadata": {},
   "outputs": [],
   "source": [
    "def tokenize_words(text, tokenizer):\n",
    "    \n",
    "    tokens = tokenizer(text, padding = True, truncation = True,\n",
    "                            return_tensors = \"pt\", max_length = 1024)\n",
    "    return tokens[\"input_ids\"], tokens[\"attention_mask\"]"
   ]
  },
  {
   "cell_type": "code",
   "execution_count": 137,
   "id": "4ce3365b-2dd3-4948-8437-2f6d7635524a",
   "metadata": {},
   "outputs": [],
   "source": [
    "def create_tokens_attn_masks(text, tokenizer):\n",
    "    tokens_list, attn_masks_list = [], []\n",
    "    for line in text:\n",
    "        input_ids , attention_masks = tokenize_words(line, tokenizer)\n",
    "        tokens_list.append(input_ids)\n",
    "        attn_masks_list.append(attention_masks)\n",
    "\n",
    "    return tokens_list, attn_masks_list"
   ]
  },
  {
   "cell_type": "code",
   "execution_count": 138,
   "id": "bbaec1af-a7f8-43ec-9ef7-bdbb9b9ed7fa",
   "metadata": {},
   "outputs": [],
   "source": [
    "headlines_tokens, hl_attn_masks = create_tokens_attn_masks(headlines, tokenizer)\n",
    "text_tokens, text_attn_masks = create_tokens_attn_masks(text, tokenizer)"
   ]
  },
  {
   "cell_type": "code",
   "execution_count": 130,
   "id": "966a4137-b7bf-4ea3-95dc-21b0e7d2008d",
   "metadata": {},
   "outputs": [],
   "source": [
    "headlines_tokens, hl_attn_masks = [], []\n",
    "for line in headlines:\n",
    "    input_ids , attention_masks = tokenize_words(line, tokenizer)\n",
    "    headlines_tokens.append(input_ids)\n",
    "    hl_attn_masks.append(attention_masks)"
   ]
  },
  {
   "cell_type": "code",
   "execution_count": 131,
   "id": "01a7a75b-79b3-4b50-8e10-ce090ccc5ffa",
   "metadata": {},
   "outputs": [],
   "source": [
    "text_tokens, text_attn_masks = []\n",
    "for line in text:\n",
    "    input_ids , attention_masks = tokenize_words(line, tokenizer)\n",
    "    text_tokens.append(input_ids)\n",
    "    text_attn_masks.append(attention_masks)"
   ]
  },
  {
   "cell_type": "code",
   "execution_count": null,
   "id": "3405b6cd-efa4-4508-bfaf-7bb22fd842cf",
   "metadata": {},
   "outputs": [],
   "source": []
  },
  {
   "cell_type": "code",
   "execution_count": null,
   "id": "561c3ffc-85ed-4914-a368-85463b141b6b",
   "metadata": {},
   "outputs": [],
   "source": []
  }
 ],
 "metadata": {
  "kernelspec": {
   "display_name": "Python 3 (ipykernel)",
   "language": "python",
   "name": "python3"
  },
  "language_info": {
   "codemirror_mode": {
    "name": "ipython",
    "version": 3
   },
   "file_extension": ".py",
   "mimetype": "text/x-python",
   "name": "python",
   "nbconvert_exporter": "python",
   "pygments_lexer": "ipython3",
   "version": "3.11.6"
  }
 },
 "nbformat": 4,
 "nbformat_minor": 5
}
